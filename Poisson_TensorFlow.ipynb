{
 "cells": [
  {
   "cell_type": "code",
   "execution_count": 46,
   "metadata": {},
   "outputs": [],
   "source": [
    "import autograd.numpy as np\n",
    "from autograd import grad, jacobian\n",
    "import autograd.numpy.random as npr\n",
    "\n",
    "from matplotlib import pyplot as plt\n",
    "from matplotlib import pyplot, cm\n",
    "from mpl_toolkits.mplot3d import Axes3D \n",
    "%matplotlib inline"
   ]
  },
  {
   "cell_type": "code",
   "execution_count": null,
   "metadata": {},
   "outputs": [],
   "source": [
    "Num = 64\n",
    "space = np.linspace(0, 1, Num)\n"
   ]
  },
  {
   "cell_type": "code",
   "execution_count": null,
   "metadata": {},
   "outputs": [],
   "source": [
    "def f1(x):\n",
    "#     Laplace equation\n",
    "    return 0.\n",
    "\n",
    "def analytic_solution1(x):\n",
    "    return (1 / (np.exp(np.pi) - np.exp(-np.pi))) * np.sin(np.pi * x[0]) * (np.exp(np.pi * x[1]) - np.exp(-np.pi * x[1]))\n",
    "\n",
    "def f2(x):\n",
    "    return 1.\n",
    "# Elliptic PDEs, Poisson’s equation,\n",
    "\n",
    "def A(x):\n",
    "    return x[1]*np.sin(np.pi * x[0])\n",
    "\n",
    "def psy_trial(x, N):\n",
    "    return A(x) + x[0] * (1 - x[0]) * x[1] * (1 - x[1]) * N\n",
    "\n",
    "def loss(w, x):\n",
    "    \n",
    "    return loss_sum"
   ]
  },
  {
   "cell_type": "code",
   "execution_count": null,
   "metadata": {},
   "outputs": [],
   "source": []
  },
  {
   "cell_type": "code",
   "execution_count": null,
   "metadata": {},
   "outputs": [],
   "source": []
  },
  {
   "cell_type": "code",
   "execution_count": null,
   "metadata": {},
   "outputs": [],
   "source": []
  },
  {
   "cell_type": "code",
   "execution_count": null,
   "metadata": {},
   "outputs": [],
   "source": []
  },
  {
   "cell_type": "code",
   "execution_count": null,
   "metadata": {},
   "outputs": [],
   "source": []
  },
  {
   "cell_type": "code",
   "execution_count": null,
   "metadata": {},
   "outputs": [],
   "source": []
  },
  {
   "cell_type": "code",
   "execution_count": 27,
   "metadata": {},
   "outputs": [],
   "source": [
    "import numpy as np\n",
    "import tensorflow as tf\n",
    "\n",
    "import PIL.Image\n",
    "from io import BytesIO\n",
    "from IPython.display import clear_output, Image, display\n",
    "\n",
    "from sklearn import datasets\n",
    "from sklearn.model_selection import train_test_split\n",
    "\n",
    "import matplotlib.pyplot as plt\n",
    "import matplotlib.cm\n",
    "from matplotlib import pyplot as plt\n",
    "from matplotlib import pyplot, cm\n",
    "from mpl_toolkits.mplot3d import Axes3D \n",
    "%matplotlib inline"
   ]
  },
  {
   "cell_type": "code",
   "execution_count": 28,
   "metadata": {},
   "outputs": [],
   "source": [
    "def analytic_solution(x):\n",
    "    return (1 / (np.exp(np.pi) - np.exp(-np.pi))) * \\\n",
    "            np.sin(np.pi * x[0]) * (np.exp(np.pi * x[1]) - np.exp(-np.pi * x[1]))"
   ]
  },
  {
   "cell_type": "code",
   "execution_count": 33,
   "metadata": {},
   "outputs": [
    {
     "name": "stdout",
     "output_type": "stream",
     "text": [
      "(64,)\n",
      "0.999689182001\n",
      "(4096, 3)\n",
      "(4096, 1)\n"
     ]
    }
   ],
   "source": [
    "N = 64 # 64*64 = 4096\n",
    "\n",
    "NY = 1 #one f\n",
    "bias = 0.01\n",
    "\n",
    "x_space = np.linspace(0, 1, N)\n",
    "\n",
    "print(x_space.shape)\n",
    "\n",
    "input_data = np.zeros((N*N, 1+2))\n",
    "\n",
    "for i, x in enumerate(x_space):\n",
    "    for j, y in enumerate(x_space):\n",
    "        index = i*N+j\n",
    "        input_data[index][0] = bias\n",
    "        input_data[index][1] = x\n",
    "        input_data[index][2] = y\n",
    "# print(train_X)  \n",
    "\n",
    "output_data = np.zeros((N*N, NY))\n",
    "for i, t in enumerate(input_data):\n",
    "        output_data[i] = analytic_solution([t[1],t[2]])\n",
    "        \n",
    "print(np.amax(output_data))\n",
    "print(input_data.shape)\n",
    "print(output_data.shape)"
   ]
  },
  {
   "cell_type": "code",
   "execution_count": 32,
   "metadata": {},
   "outputs": [],
   "source": [
    "# surface = np.zeros((N, N))\n",
    "\n",
    "# for i in range(len(x)):\n",
    "#     for j in range(len(y)):\n",
    "#         surface[i][j] =  analytic_solution([x[i], y[j]])\n",
    "# #         print(surface[i][j] )\n",
    "\n",
    "\n",
    "# # print(surface)\n",
    "# print(surface.shape)\n",
    "\n",
    "# print(np.amax(surface))"
   ]
  },
  {
   "cell_type": "code",
   "execution_count": 39,
   "metadata": {},
   "outputs": [],
   "source": [
    "# im = plt.imshow(Z, origin='lower', vmax=abs(Z).max(), vmin=-abs(Z).max())\n",
    "# plt.show()\n",
    "\n",
    "# fig = plt.figure()\n",
    "# ax = fig.gca(projection='3d')\n",
    "# X1, X2 = np.meshgrid(x_space, x_space)\n",
    "# surf1 = ax.plot_surface(X1, X2, output_data, rstride=1, cstride=1, cmap=cm.viridis, linewidth=0, antialiased=False)\n",
    "\n",
    "\n",
    "# ax.set_xlim(0, 1)\n",
    "# ax.set_ylim(0, 1)\n",
    "# ax.set_zlim(0, 2)\n",
    "\n",
    "# ax.set_xlabel('$x$')\n",
    "# ax.set_ylabel('$y$');"
   ]
  },
  {
   "cell_type": "code",
   "execution_count": 40,
   "metadata": {},
   "outputs": [
    {
     "name": "stdout",
     "output_type": "stream",
     "text": [
      "(1.0, 1.0)\n"
     ]
    }
   ],
   "source": [
    "a =1.\n",
    "s = (a, a*a)\n",
    "print(s)"
   ]
  },
  {
   "cell_type": "code",
   "execution_count": 15,
   "metadata": {},
   "outputs": [],
   "source": []
  },
  {
   "cell_type": "code",
   "execution_count": null,
   "metadata": {},
   "outputs": [],
   "source": []
  },
  {
   "cell_type": "markdown",
   "metadata": {},
   "source": [
    "#Tenserflow\n",
    "https://gist.github.com/vinhkhuc/e53a70f9e5c3f55852b0"
   ]
  },
  {
   "cell_type": "code",
   "execution_count": 72,
   "metadata": {},
   "outputs": [],
   "source": [
    "import numpy as np\n",
    "import tensorflow as tf\n",
    "\n",
    "import PIL.Image\n",
    "from io import BytesIO\n",
    "from IPython.display import clear_output, Image, display\n",
    "\n",
    "from sklearn import datasets\n",
    "from sklearn.model_selection import train_test_split\n",
    "\n",
    "import matplotlib.pyplot as plt\n",
    "import matplotlib.cm\n",
    "from matplotlib import pyplot as plt\n",
    "from matplotlib import pyplot, cm\n",
    "from mpl_toolkits.mplot3d import Axes3D \n",
    "%matplotlib inline"
   ]
  },
  {
   "cell_type": "code",
   "execution_count": 5,
   "metadata": {},
   "outputs": [],
   "source": [
    "RANDOM_SEED = 42\n",
    "tf.set_random_seed(RANDOM_SEED)"
   ]
  },
  {
   "cell_type": "code",
   "execution_count": 6,
   "metadata": {},
   "outputs": [],
   "source": [
    "def init_weights(shape):\n",
    "    return tf.Variable(tf.random_normal(shape, stddev=0.1))"
   ]
  },
  {
   "cell_type": "code",
   "execution_count": 7,
   "metadata": {},
   "outputs": [],
   "source": [
    "def forwardprop(X, w_1, w_2):\n",
    "    return tf.matmul(tf.nn.sigmoid(tf.matmul(X, w_1)), w_2)"
   ]
  },
  {
   "cell_type": "code",
   "execution_count": 10,
   "metadata": {},
   "outputs": [
    {
     "name": "stdout",
     "output_type": "stream",
     "text": [
      "(64,)\n",
      "0.999689182001\n",
      "(4096, 3)\n",
      "(4096, 1)\n"
     ]
    }
   ],
   "source": [
    "N = 64\n",
    "NY = 1 #one f\n",
    "bias = 0.01\n",
    "\n",
    "x_space = np.linspace(0, 1, N)\n",
    "\n",
    "print(x_space.shape)\n",
    "\n",
    "input_data = np.zeros((N*N, 1+2))\n",
    "\n",
    "for i, x in enumerate(x_space):\n",
    "    for j, y in enumerate(x_space):\n",
    "        index = i*N+j\n",
    "        input_data[index][0] = bias\n",
    "        input_data[index][1] = x\n",
    "        input_data[index][2] = y\n",
    "# print(train_X)  \n",
    "\n",
    "def analytic_solution(x):\n",
    "    return (1 / (np.exp(np.pi) - np.exp(-np.pi))) * np.sin(np.pi * x[0]) * (np.exp(np.pi * x[1]) - np.exp(-np.pi * x[1]))\n",
    "\n",
    "output_data = np.zeros((N*N, NY))\n",
    "for i, t in enumerate(input_data):\n",
    "        output_data[i] = analytic_solution([t[1],t[2]])\n",
    "        \n",
    "print(np.amax(output_data))\n",
    "print(input_data.shape)\n",
    "print(output_data.shape)"
   ]
  },
  {
   "cell_type": "code",
   "execution_count": 11,
   "metadata": {},
   "outputs": [
    {
     "name": "stdout",
     "output_type": "stream",
     "text": [
      "(5, 3)\n",
      "(4091, 3)\n",
      "(5, 1)\n",
      "(4091, 1)\n"
     ]
    }
   ],
   "source": [
    "p = 5\n",
    "\n",
    "train_X = input_data[:p]\n",
    "test_X  = input_data[p:]\n",
    "train_y = output_data[:p]\n",
    "test_y  = output_data[p:]\n",
    "\n",
    "print(train_X.shape)\n",
    "print(test_X.shape)# train_X, test_X, train_y, test_y = get_iris_data()\n",
    "print(train_y.shape)\n",
    "print(test_y.shape)"
   ]
  },
  {
   "cell_type": "code",
   "execution_count": 17,
   "metadata": {},
   "outputs": [
    {
     "ename": "SyntaxError",
     "evalue": "invalid syntax (<ipython-input-17-38dff4ccdb4b>, line 25)",
     "output_type": "error",
     "traceback": [
      "\u001b[0;36m  File \u001b[0;32m\"<ipython-input-17-38dff4ccdb4b>\"\u001b[0;36m, line \u001b[0;32m25\u001b[0m\n\u001b[0;31m    cost = tf.reduce_mean(tf.reduce_sum(tf.gradient(tf.gradient(psi,X)[2],X)+tf.gradient(tf.gradient(psi,X[1]),X[1])-0))\u001b[0m\n\u001b[0m       ^\u001b[0m\n\u001b[0;31mSyntaxError\u001b[0m\u001b[0;31m:\u001b[0m invalid syntax\n"
     ]
    }
   ],
   "source": [
    "print(train_X.shape)\n",
    "print(train_y.shape)\n",
    "\n",
    "# Layer's sizes\n",
    "x_size = train_X.shape[1]   # Number of input nodes: 4 features and 1 bias\n",
    "h_size = 256                # Number of hidden nodes\n",
    "y_size = train_y.shape[1]   # Number of outcomes (3 iris flowers)\n",
    "\n",
    "# Symbols\n",
    "X = tf.placeholder(\"float\", shape=[None, x_size])\n",
    "y = tf.placeholder(\"float\", shape=[None, y_size])\n",
    "\n",
    "# Weight initializations\n",
    "w_1 = init_weights((x_size, h_size))\n",
    "w_2 = init_weights((h_size, y_size))\n",
    "\n",
    "# Forward propagation\n",
    "yhat    = forwardprop(X, w_1, w_2)\n",
    "predict = tf.argmax(yhat, axis=1)\n",
    "\n",
    "psi = tf.matmul(X[2],tf.sin(np.pi*X[1])) + tf.matmul(tf.matmul(X[1]*(1-X[1]),X[2]* (1-X[2]),yhat)\n",
    "\n",
    "# Backward propagation\n",
    "cost = tf.reduce_mean(tf.reduce_sum(tf.gradient(tf.gradient(psi,X[2]),X[2])+tf.gradient(tf.gradient(psi,X[1]),X[1])-0))\n",
    "# cost    = tf.reduce_mean(tf.nn.softmax_cross_entropy_with_logits(labels=y, logits=yhat))\n",
    "updates = tf.train.GradientDescentOptimizer(0.001).minimize(cost)\n",
    "\n",
    "# Run SGD\n",
    "sess = tf.Session()\n",
    "init = tf.global_variables_initializer()\n",
    "sess.run(init)\n",
    "\n",
    "for epoch in range(10):\n",
    "    # Train with each example\n",
    "    for i in range(len(train_X)):\n",
    "        sess.run(updates, feed_dict={X: train_X[i: i + 1], y: train_y[i: i + 1]})\n",
    "    \n",
    "    \n",
    "#     train_accuracy = np.mean(np.argmax(train_y, axis=1) == sess.run(predict, feed_dict={X: train_X, y: train_y}))\n",
    "#     test_accuracy  = np.mean(np.argmax(test_y, axis=1)  == sess.run(predict, feed_dict={X: test_X, y: test_y}))\n",
    "\n",
    "#     print(\"Epoch = %d, train accuracy = %.2f%%, test accuracy = %.2f%%\"% (epoch + 1, 100. * train_accuracy, 100. * test_accuracy))\n",
    "\n",
    "sess.close()"
   ]
  },
  {
   "cell_type": "code",
   "execution_count": 181,
   "metadata": {},
   "outputs": [
    {
     "name": "stdout",
     "output_type": "stream",
     "text": [
      "[[ 0.  1.  0.]\n",
      " [ 1.  0.  0.]\n",
      " [ 0.  0.  1.]\n",
      " [ 0.  1.  0.]\n",
      " [ 0.  1.  0.]\n",
      " [ 1.  0.  0.]\n",
      " [ 0.  1.  0.]\n",
      " [ 0.  0.  1.]\n",
      " [ 0.  1.  0.]\n",
      " [ 0.  1.  0.]\n",
      " [ 0.  0.  1.]\n",
      " [ 1.  0.  0.]\n",
      " [ 1.  0.  0.]\n",
      " [ 1.  0.  0.]\n",
      " [ 1.  0.  0.]\n",
      " [ 0.  1.  0.]\n",
      " [ 0.  0.  1.]\n",
      " [ 0.  1.  0.]\n",
      " [ 0.  1.  0.]\n",
      " [ 0.  0.  1.]\n",
      " [ 1.  0.  0.]\n",
      " [ 0.  0.  1.]\n",
      " [ 1.  0.  0.]\n",
      " [ 0.  0.  1.]\n",
      " [ 0.  0.  1.]\n",
      " [ 0.  0.  1.]\n",
      " [ 0.  0.  1.]\n",
      " [ 0.  0.  1.]\n",
      " [ 1.  0.  0.]\n",
      " [ 1.  0.  0.]\n",
      " [ 1.  0.  0.]\n",
      " [ 1.  0.  0.]\n",
      " [ 0.  1.  0.]\n",
      " [ 1.  0.  0.]\n",
      " [ 1.  0.  0.]\n",
      " [ 0.  0.  1.]\n",
      " [ 0.  1.  0.]\n",
      " [ 1.  0.  0.]\n",
      " [ 1.  0.  0.]\n",
      " [ 1.  0.  0.]\n",
      " [ 0.  0.  1.]\n",
      " [ 0.  1.  0.]\n",
      " [ 0.  1.  0.]\n",
      " [ 1.  0.  0.]\n",
      " [ 1.  0.  0.]\n",
      " [ 0.  1.  0.]\n",
      " [ 0.  0.  1.]\n",
      " [ 0.  0.  1.]\n",
      " [ 0.  1.  0.]\n",
      " [ 0.  0.  1.]]\n"
     ]
    }
   ],
   "source": [
    "    train_X, test_X, train_y, test_y = get_iris_data()\n",
    "    print(test_y)"
   ]
  },
  {
   "cell_type": "code",
   "execution_count": 77,
   "metadata": {},
   "outputs": [],
   "source": [
    "# sklearn\n",
    "def get_iris_data():\n",
    "    \"\"\" Read the iris data set and split them into training and test sets \"\"\"\n",
    "    iris   = datasets.load_iris()\n",
    "    data   = iris[\"data\"]\n",
    "    target = iris[\"target\"]\n",
    "\n",
    "    # Prepend the column of 1s for bias\n",
    "    N, M  = data.shape\n",
    "    all_X = np.ones((N, M + 1))\n",
    "    all_X[:, 1:] = data\n",
    "\n",
    "    # Convert into one-hot vectors\n",
    "    num_labels = len(np.unique(target))\n",
    "    all_Y = np.eye(num_labels)[target]  # One liner trick!\n",
    "    return train_test_split(all_X, all_Y, test_size=0.33, random_state=RANDOM_SEED)"
   ]
  },
  {
   "cell_type": "code",
   "execution_count": 174,
   "metadata": {},
   "outputs": [
    {
     "name": "stdout",
     "output_type": "stream",
     "text": [
      "Epoch = 1, train accuracy = 62.00%, test accuracy = 70.00%\n",
      "Epoch = 2, train accuracy = 65.00%, test accuracy = 70.00%\n",
      "Epoch = 3, train accuracy = 65.00%, test accuracy = 70.00%\n",
      "Epoch = 4, train accuracy = 68.00%, test accuracy = 70.00%\n",
      "Epoch = 5, train accuracy = 70.00%, test accuracy = 70.00%\n",
      "Epoch = 6, train accuracy = 71.00%, test accuracy = 74.00%\n",
      "Epoch = 7, train accuracy = 72.00%, test accuracy = 78.00%\n",
      "Epoch = 8, train accuracy = 78.00%, test accuracy = 78.00%\n",
      "Epoch = 9, train accuracy = 81.00%, test accuracy = 78.00%\n",
      "Epoch = 10, train accuracy = 83.00%, test accuracy = 78.00%\n",
      "Epoch = 11, train accuracy = 86.00%, test accuracy = 78.00%\n",
      "Epoch = 12, train accuracy = 87.00%, test accuracy = 78.00%\n",
      "Epoch = 13, train accuracy = 87.00%, test accuracy = 80.00%\n",
      "Epoch = 14, train accuracy = 87.00%, test accuracy = 82.00%\n",
      "Epoch = 15, train accuracy = 88.00%, test accuracy = 82.00%\n",
      "Epoch = 16, train accuracy = 88.00%, test accuracy = 84.00%\n",
      "Epoch = 17, train accuracy = 89.00%, test accuracy = 86.00%\n",
      "Epoch = 18, train accuracy = 89.00%, test accuracy = 86.00%\n",
      "Epoch = 19, train accuracy = 89.00%, test accuracy = 88.00%\n",
      "Epoch = 20, train accuracy = 90.00%, test accuracy = 88.00%\n",
      "Epoch = 21, train accuracy = 90.00%, test accuracy = 88.00%\n",
      "Epoch = 22, train accuracy = 91.00%, test accuracy = 92.00%\n",
      "Epoch = 23, train accuracy = 91.00%, test accuracy = 92.00%\n",
      "Epoch = 24, train accuracy = 92.00%, test accuracy = 92.00%\n",
      "Epoch = 25, train accuracy = 92.00%, test accuracy = 92.00%\n",
      "Epoch = 26, train accuracy = 92.00%, test accuracy = 92.00%\n",
      "Epoch = 27, train accuracy = 92.00%, test accuracy = 94.00%\n",
      "Epoch = 28, train accuracy = 93.00%, test accuracy = 94.00%\n",
      "Epoch = 29, train accuracy = 93.00%, test accuracy = 94.00%\n",
      "Epoch = 30, train accuracy = 93.00%, test accuracy = 94.00%\n",
      "Epoch = 31, train accuracy = 93.00%, test accuracy = 94.00%\n",
      "Epoch = 32, train accuracy = 94.00%, test accuracy = 94.00%\n",
      "Epoch = 33, train accuracy = 94.00%, test accuracy = 94.00%\n",
      "Epoch = 34, train accuracy = 94.00%, test accuracy = 94.00%\n",
      "Epoch = 35, train accuracy = 94.00%, test accuracy = 96.00%\n",
      "Epoch = 36, train accuracy = 94.00%, test accuracy = 98.00%\n",
      "Epoch = 37, train accuracy = 94.00%, test accuracy = 98.00%\n",
      "Epoch = 38, train accuracy = 95.00%, test accuracy = 98.00%\n",
      "Epoch = 39, train accuracy = 95.00%, test accuracy = 98.00%\n",
      "Epoch = 40, train accuracy = 95.00%, test accuracy = 98.00%\n",
      "Epoch = 41, train accuracy = 95.00%, test accuracy = 98.00%\n",
      "Epoch = 42, train accuracy = 96.00%, test accuracy = 98.00%\n",
      "Epoch = 43, train accuracy = 96.00%, test accuracy = 98.00%\n",
      "Epoch = 44, train accuracy = 96.00%, test accuracy = 98.00%\n",
      "Epoch = 45, train accuracy = 96.00%, test accuracy = 98.00%\n",
      "Epoch = 46, train accuracy = 96.00%, test accuracy = 98.00%\n",
      "Epoch = 47, train accuracy = 96.00%, test accuracy = 98.00%\n",
      "Epoch = 48, train accuracy = 96.00%, test accuracy = 98.00%\n",
      "Epoch = 49, train accuracy = 96.00%, test accuracy = 98.00%\n",
      "Epoch = 50, train accuracy = 96.00%, test accuracy = 98.00%\n",
      "Epoch = 51, train accuracy = 96.00%, test accuracy = 98.00%\n",
      "Epoch = 52, train accuracy = 96.00%, test accuracy = 98.00%\n",
      "Epoch = 53, train accuracy = 96.00%, test accuracy = 98.00%\n",
      "Epoch = 54, train accuracy = 96.00%, test accuracy = 98.00%\n",
      "Epoch = 55, train accuracy = 96.00%, test accuracy = 98.00%\n",
      "Epoch = 56, train accuracy = 96.00%, test accuracy = 98.00%\n",
      "Epoch = 57, train accuracy = 96.00%, test accuracy = 98.00%\n",
      "Epoch = 58, train accuracy = 96.00%, test accuracy = 98.00%\n",
      "Epoch = 59, train accuracy = 96.00%, test accuracy = 98.00%\n",
      "Epoch = 60, train accuracy = 96.00%, test accuracy = 98.00%\n",
      "Epoch = 61, train accuracy = 96.00%, test accuracy = 98.00%\n",
      "Epoch = 62, train accuracy = 96.00%, test accuracy = 98.00%\n",
      "Epoch = 63, train accuracy = 96.00%, test accuracy = 98.00%\n",
      "Epoch = 64, train accuracy = 96.00%, test accuracy = 98.00%\n",
      "Epoch = 65, train accuracy = 96.00%, test accuracy = 98.00%\n",
      "Epoch = 66, train accuracy = 96.00%, test accuracy = 98.00%\n",
      "Epoch = 67, train accuracy = 96.00%, test accuracy = 98.00%\n",
      "Epoch = 68, train accuracy = 96.00%, test accuracy = 98.00%\n",
      "Epoch = 69, train accuracy = 96.00%, test accuracy = 98.00%\n",
      "Epoch = 70, train accuracy = 96.00%, test accuracy = 98.00%\n",
      "Epoch = 71, train accuracy = 96.00%, test accuracy = 100.00%\n",
      "Epoch = 72, train accuracy = 96.00%, test accuracy = 100.00%\n",
      "Epoch = 73, train accuracy = 96.00%, test accuracy = 100.00%\n",
      "Epoch = 74, train accuracy = 96.00%, test accuracy = 100.00%\n",
      "Epoch = 75, train accuracy = 96.00%, test accuracy = 100.00%\n",
      "Epoch = 76, train accuracy = 96.00%, test accuracy = 100.00%\n",
      "Epoch = 77, train accuracy = 96.00%, test accuracy = 100.00%\n",
      "Epoch = 78, train accuracy = 96.00%, test accuracy = 100.00%\n",
      "Epoch = 79, train accuracy = 96.00%, test accuracy = 100.00%\n",
      "Epoch = 80, train accuracy = 96.00%, test accuracy = 100.00%\n",
      "Epoch = 81, train accuracy = 96.00%, test accuracy = 100.00%\n",
      "Epoch = 82, train accuracy = 96.00%, test accuracy = 100.00%\n",
      "Epoch = 83, train accuracy = 96.00%, test accuracy = 100.00%\n",
      "Epoch = 84, train accuracy = 96.00%, test accuracy = 100.00%\n",
      "Epoch = 85, train accuracy = 96.00%, test accuracy = 100.00%\n",
      "Epoch = 86, train accuracy = 96.00%, test accuracy = 100.00%\n",
      "Epoch = 87, train accuracy = 96.00%, test accuracy = 100.00%\n",
      "Epoch = 88, train accuracy = 96.00%, test accuracy = 100.00%\n",
      "Epoch = 89, train accuracy = 96.00%, test accuracy = 100.00%\n",
      "Epoch = 90, train accuracy = 96.00%, test accuracy = 100.00%\n",
      "Epoch = 91, train accuracy = 96.00%, test accuracy = 100.00%\n",
      "Epoch = 92, train accuracy = 96.00%, test accuracy = 100.00%\n",
      "Epoch = 93, train accuracy = 96.00%, test accuracy = 100.00%\n",
      "Epoch = 94, train accuracy = 96.00%, test accuracy = 100.00%\n",
      "Epoch = 95, train accuracy = 96.00%, test accuracy = 100.00%\n",
      "Epoch = 96, train accuracy = 96.00%, test accuracy = 100.00%\n",
      "Epoch = 97, train accuracy = 96.00%, test accuracy = 100.00%\n",
      "Epoch = 98, train accuracy = 96.00%, test accuracy = 100.00%\n",
      "Epoch = 99, train accuracy = 96.00%, test accuracy = 100.00%\n",
      "Epoch = 100, train accuracy = 96.00%, test accuracy = 100.00%\n"
     ]
    }
   ],
   "source": [
    "    train_X, test_X, train_y, test_y = get_iris_data()\n",
    "\n",
    "    # Layer's sizes\n",
    "    x_size = train_X.shape[1]   # Number of input nodes: 4 features and 1 bias\n",
    "    h_size = 256                # Number of hidden nodes\n",
    "    y_size = train_y.shape[1]   # Number of outcomes (3 iris flowers)\n",
    "\n",
    "    # Symbols\n",
    "    X = tf.placeholder(\"float\", shape=[None, x_size])\n",
    "    y = tf.placeholder(\"float\", shape=[None, y_size])\n",
    "\n",
    "    # Weight initializations\n",
    "    w_1 = init_weights((x_size, h_size))\n",
    "    w_2 = init_weights((h_size, y_size))\n",
    "\n",
    "    # Forward propagation\n",
    "    yhat    = forwardprop(X, w_1, w_2)\n",
    "    predict = tf.argmax(yhat, axis=1)\n",
    "\n",
    "    # Backward propagation\n",
    "    cost    = tf.reduce_mean(tf.nn.softmax_cross_entropy_with_logits(labels=y, logits=yhat))\n",
    "    updates = tf.train.GradientDescentOptimizer(0.01).minimize(cost)\n",
    "\n",
    "    # Run SGD\n",
    "    sess = tf.Session()\n",
    "    init = tf.global_variables_initializer()\n",
    "    sess.run(init)\n",
    "\n",
    "    for epoch in range(100):\n",
    "        # Train with each example\n",
    "        for i in range(len(train_X)):\n",
    "            sess.run(updates, feed_dict={X: train_X[i: i + 1], y: train_y[i: i + 1]})\n",
    "\n",
    "        train_accuracy = np.mean(np.argmax(train_y, axis=1) ==\n",
    "                                 sess.run(predict, feed_dict={X: train_X, y: train_y}))\n",
    "        test_accuracy  = np.mean(np.argmax(test_y, axis=1) ==\n",
    "                                 sess.run(predict, feed_dict={X: test_X, y: test_y}))\n",
    "\n",
    "        print(\"Epoch = %d, train accuracy = %.2f%%, test accuracy = %.2f%%\"\n",
    "              % (epoch + 1, 100. * train_accuracy, 100. * test_accuracy))\n",
    "\n",
    "    sess.close()"
   ]
  },
  {
   "cell_type": "code",
   "execution_count": 44,
   "metadata": {},
   "outputs": [],
   "source": [
    "def f(x1,x2):\n",
    "    return (1 / (tf.exp(np.pi) - tf.exp(-np.pi))) * tf.sin(np.pi * x1) * (tf.exp(np.pi * x2) - tf.exp(-np.pi * x2))\n",
    "\n",
    "# tf.reset_default_graph()\n",
    "sess = tf.InteractiveSession()\n",
    "x1 = tf.Variable(0, dtype = tf.float32, name = 'x1')\n",
    "x2 = tf.Variable(0, dtype = tf.float32, name = 'x2')\n",
    "\n",
    "objective = f(x1,x2)\n",
    "optimizer = []\n",
    "optimizer.append(tf.train.GradientDescentOptimizer(0.001).minimize(objective))\n",
    "\n",
    "sess.run(tf.global_variables_initializer())\n",
    "\n"
   ]
  },
  {
   "cell_type": "code",
   "execution_count": null,
   "metadata": {},
   "outputs": [],
   "source": []
  }
 ],
 "metadata": {
  "kernelspec": {
   "display_name": "Python 3",
   "language": "python",
   "name": "python3"
  },
  "language_info": {
   "codemirror_mode": {
    "name": "ipython",
    "version": 3
   },
   "file_extension": ".py",
   "mimetype": "text/x-python",
   "name": "python",
   "nbconvert_exporter": "python",
   "pygments_lexer": "ipython3",
   "version": "3.6.0"
  }
 },
 "nbformat": 4,
 "nbformat_minor": 2
}
